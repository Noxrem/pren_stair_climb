{
 "cells": [
  {
   "cell_type": "markdown",
   "metadata": {},
   "source": [
    "# HaarCascade Training"
   ]
  },
  {
   "cell_type": "markdown",
   "metadata": {},
   "source": [
    "Bis ich mit dem Training effektiv beginnen konnte brauchte ich einige Stunden und viele Nerven. "
   ]
  },
  {
   "cell_type": "markdown",
   "metadata": {},
   "source": [
    "## Prerequisits\n",
    "* openCV: https://docs.opencv.org/master/d0/db2/tutorial_macos_install.html\n",
    "* imagemagick: brew install imagemagick\n",
    "* ghostscript: brew install ghostscript\n"
   ]
  },
  {
   "cell_type": "markdown",
   "metadata": {},
   "source": []
  },
  {
   "cell_type": "markdown",
   "metadata": {},
   "source": [
    "## Positive Samples\n",
    "1. Piktogramm mit verschiedenen Kontrast- und Helligkeitsstufen anlegen. Für das Training habe ich 31 verschiedene Bilder vom gleichen Piktogramm erzeugt.\n",
    "2. versch. Ansichten erstellen\n",
    "    1. `create_\n",
    "2. samples erstellen\n",
    "3. shell script\n",
    "4. chmod a+rx script.sh\n",
    "5. ./myscript.sh\n"
   ]
  },
  {
   "cell_type": "code",
   "execution_count": 2,
   "metadata": {},
   "outputs": [],
   "source": []
  },
  {
   "cell_type": "code",
   "execution_count": null,
   "metadata": {},
   "outputs": [],
   "source": [
    "import cv2\n",
    "\n",
    "hammer_clsfr=cv2.CascadeClassifier(\"../../pren_stair_climb/it_pren1/haar-training/cascade.xml\")\n",
    "#loading the face detecting cascade classifier into face_clsfr\n",
    "#eye_clsfr=cv2.CascadeClassifier('haar-cascade/haarcascade_eye_tree_eyeglasses.xml')\n",
    "#loading the eyes cascade classifier into face_clsfr\n",
    "\n",
    "camera=cv2.VideoCapture(0)\n",
    "#initializing the video object (0 for default webcam)\n",
    "\n",
    "while(True):\n",
    "#infinite loop to read continuous frames from the camera object\n",
    "\n",
    "    ret,img=camera.read()\n",
    "    #reading a single frame from the camera\n",
    "    gray=cv2.cvtColor(img,cv2.COLOR_BGR2GRAY)\n",
    "    #converting the color image to a gray scale image\n",
    "    hammers=hammer_clsfr.detectMultiScale(gray)     \n",
    "    #results=clsfr.predict()\n",
    "    #detecting faces in the gray scale, (this is quite similar to results=clsfr.predict(data))\n",
    "    #faces is a 2D array contaning n number of rows (n= number of faces in the frame), 4 columns (x,y,w,h)\n",
    "    for (x,y,w,h) in hammers:\n",
    "    #going through each and every face and assigning the x,y,w,h\n",
    "\n",
    "        cv2.rectangle(img,(x,y),(x+w,y+h),(0,255,0),2)\n",
    "        #Drawing a rectangle bounding the faces\n",
    "        cv2.putText(img,'Hammer',(x,y-10),cv2.FONT_HERSHEY_SIMPLEX,0.5,(0,255,0),2)\n",
    "        #showing 'FACE' near the bounding rectangle\n",
    "\n",
    "        #face_img=gray[y:y+w,x:x+w]\n",
    "        #cropping the detected face area and assigning into a face_img \n",
    "        #cv2.imshow('Hammer',face_img)\n",
    "        #comment the above line to see the cropped face\n",
    "        #eyes=eye_clsfr.detectMultiScale(face_img)\n",
    "        #detecting eyes in the cropped face\n",
    "\n",
    "        #for(ex,ey,ew,eh) in eyes:\n",
    "\n",
    "         #   cv2.rectangle(img,(x+ex,y+ey),(x+ex+ew,y+ey+eh),(255,0,0),2)\n",
    "          #  cv2.putText(img,'EYES',(x+ex,y+ey-10),cv2.FONT_HERSHEY_SIMPLEX,0.5,(255,0,0),2)\n",
    "        #drawing rectangles bounding eyes\n",
    "            \n",
    "    cv2.imshow('LIVE',img)\n",
    "    cv2.waitKey(1)\n",
    "    #showing the frame\n",
    "    "
   ]
  },
  {
   "cell_type": "markdown",
   "metadata": {},
   "source": [
    "## Learnings/Probleme\n",
    "* Verisonen von openCV > 3.4 unterstützten die Utilities die im Tutotrial (für V4.4.1) https://docs.opencv.org/4.1.0/dc/d88/tutorial_traincascade.html beschrieben sind nicht. Um die benötigten Tools `opencv_createsamples`, `opencv_annotations` und `opencv_traincascade` zu kompilieren musste ich auf Version 3.4 zurück.\n",
    "* "
   ]
  },
  {
   "cell_type": "code",
   "execution_count": 2,
   "metadata": {},
   "outputs": [
    {
     "ename": "ModuleNotFoundError",
     "evalue": "No module named 'picamera'",
     "output_type": "error",
     "traceback": [
      "\u001b[0;31m---------------------------------------------------------------------------\u001b[0m",
      "\u001b[0;31mModuleNotFoundError\u001b[0m                       Traceback (most recent call last)",
      "\u001b[0;32m<ipython-input-2-a759d92e72ea>\u001b[0m in \u001b[0;36m<module>\u001b[0;34m\u001b[0m\n\u001b[1;32m      1\u001b[0m \u001b[0;31m## Capturing auf Raspi\u001b[0m\u001b[0;34m\u001b[0m\u001b[0;34m\u001b[0m\u001b[0;34m\u001b[0m\u001b[0m\n\u001b[1;32m      2\u001b[0m \u001b[0;34m\u001b[0m\u001b[0m\n\u001b[0;32m----> 3\u001b[0;31m \u001b[0;32mfrom\u001b[0m \u001b[0mpicamera\u001b[0m \u001b[0;32mimport\u001b[0m \u001b[0mPiCamera\u001b[0m\u001b[0;34m\u001b[0m\u001b[0;34m\u001b[0m\u001b[0m\n\u001b[0m\u001b[1;32m      4\u001b[0m \u001b[0;32mfrom\u001b[0m \u001b[0mpicamera\u001b[0m\u001b[0;34m.\u001b[0m\u001b[0marray\u001b[0m \u001b[0;32mimport\u001b[0m \u001b[0mPiRGBArray\u001b[0m\u001b[0;34m\u001b[0m\u001b[0;34m\u001b[0m\u001b[0m\n\u001b[1;32m      5\u001b[0m \u001b[0;32mimport\u001b[0m \u001b[0mtime\u001b[0m\u001b[0;34m\u001b[0m\u001b[0;34m\u001b[0m\u001b[0m\n",
      "\u001b[0;31mModuleNotFoundError\u001b[0m: No module named 'picamera'"
     ]
    }
   ],
   "source": [
    "## Capturing auf Raspi\n",
    "\n",
    "from picamera import PiCamera\n",
    "from picamera.array import PiRGBArray\n",
    "import time\n",
    "import numpy as np\n",
    "import cv2\n",
    "\n",
    "# loading hammer cascade\n",
    "hammer_clsfr=cv2.CascadeClassifier(\"data/cascade.xml\")\n",
    "    \n",
    "# initialize the camera and grab a reference to the raw camera capture\n",
    "camera = PiCamera()\n",
    "camera.resolution = (640, 480)\n",
    "camera.framerate = 32\n",
    "rawCapture = PiRGBArray(camera, size=(640, 480))\n",
    "# allow the camera to warmup\n",
    "time.sleep(1.0)\n",
    "# capture frames from the camera\n",
    "for frame in camera.capture_continuous(rawCapture, format=\"gray\", use_video_port=True):\n",
    "    # grab the raw NumPy array representing the image, then initialize the timestamp\n",
    "    # and occupied/unoccupied text\n",
    "    image = frame.array\n",
    "    \n",
    "    hammers=hammer_clsfr.detectMultiScale(image)\n",
    "    for (x,y,w,h) in hammers:\n",
    "    #going through each and every face and assigning the x,y,w,h\n",
    "\n",
    "        cv2.rectangle(image,(x,y),(x+w,y+h),(0,255,0),2)\n",
    "        #Drawing a rectangle bounding the faces\n",
    "        cv2.putText(imgage,'Hammer',(x,y-10),cv2.FONT_HERSHEY_SIMPLEX,0.5,(0,255,0),2)\n",
    "    \n",
    "    \n",
    "    # show the frame\n",
    "    cv2.imshow(\"Raspi-View\", image)\n",
    "    \n",
    "    \n",
    "    key = cv2.waitKey(1) & 0xFF\n",
    "    # clear the stream in preparation for the next frame\n",
    "    rawCapture.truncate(0)\n",
    "    # if the `q` key was pressed, break from the loop\n",
    "    if key == ord(\"q\"):\n",
    "        break"
   ]
  },
  {
   "cell_type": "code",
   "execution_count": null,
   "metadata": {},
   "outputs": [],
   "source": []
  }
 ],
 "metadata": {
  "kernelspec": {
   "display_name": "Python 3",
   "language": "python",
   "name": "python3"
  },
  "language_info": {
   "codemirror_mode": {
    "name": "ipython",
    "version": 3
   },
   "file_extension": ".py",
   "mimetype": "text/x-python",
   "name": "python",
   "nbconvert_exporter": "python",
   "pygments_lexer": "ipython3",
   "version": "3.8.2"
  }
 },
 "nbformat": 4,
 "nbformat_minor": 4
}
