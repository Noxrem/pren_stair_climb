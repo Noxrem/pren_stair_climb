{
 "cells": [
  {
   "cell_type": "code",
   "execution_count": 7,
   "metadata": {},
   "outputs": [
    {
     "name": "stdout",
     "output_type": "stream",
     "text": [
      "SSIM: 0.28797382985507164 - Hammer\n",
      "SSIM: 0.26003210655799247 - PaintBucket\n",
      "SSIM: 0.3422276078483943 - Screwdriver\n",
      "SSIM: 0.2995209647025309 - Wrap\n",
      "SSIM: 0.20738822036876067 - Hammer\n",
      "SSIM: 0.18827379811919887 - PaintBucket\n",
      "SSIM: 0.215015195583801 - Screwdriver\n",
      "SSIM: 0.21864821766631187 - Wrap\n",
      "The Pictogram shows a Screwdriver\n",
      "The Pictogram shows a Wrap\n"
     ]
    }
   ],
   "source": [
    "import skimage\n",
    "from skimage import metrics\n",
    "import cv2\n",
    "import matplotlib as mpl\n",
    "from matplotlib import pyplot as plt\n",
    "\n",
    "# definition of initial pictogram names and desired size\n",
    "pictogram_names = [\"Hammer\", \"PaintBucket\", \"Screwdriver\", \"Wrap\"]\n",
    "dsize = (1300, 770)\n",
    "\n",
    "\n",
    "# load, resize and convert initial pictograms to grayscale\n",
    "def load_images():\n",
    "    pictogram_loaded = []\n",
    "    for name in pictogram_names:\n",
    "        image = cv2.imread('img-compare/' + name + '.jpg')\n",
    "        image_resized = cv2.resize(image, dsize)\n",
    "        image_gray = cv2.cvtColor(image_resized, cv2.COLOR_BGR2GRAY)\n",
    "        pictogram_loaded.append((image_gray, name))\n",
    "    return pictogram_loaded\n",
    "\n",
    "\n",
    "# ToDo resize image from camera\n",
    "# compare pictogram and return most similar\n",
    "def compare_pictograms(pictogram_from_camera):\n",
    "    pictograms = load_images()\n",
    "    most_similar_image = None\n",
    "    highest_ssim = 0\n",
    "\n",
    "    for pictogram in pictograms:\n",
    "        score = skimage.metrics.structural_similarity(pictogram[0], pictogram_from_camera)\n",
    "        print(\"SSIM: \" + str(score) + \" - \" + pictogram[1])\n",
    "        if score > highest_ssim:\n",
    "            highest_ssim = score\n",
    "            most_similar_image = pictogram\n",
    "\n",
    "    return most_similar_image\n",
    "\n",
    "\n",
    "if __name__ == '__main__':\n",
    "    from_picam = cv2.cvtColor(cv2.resize(cv2.imread('img-compare/find/hammer_office.JPG'), dsize),\n",
    "                              cv2.COLOR_BGR2GRAY)\n",
    "    from_picam2 = cv2.cvtColor(cv2.resize(cv2.imread('img-compare/find/paint_bucket_stair.JPG'), dsize),\n",
    "                              cv2.COLOR_BGR2GRAY)\n",
    "\n",
    "    result = compare_pictograms(from_picam)\n",
    "    result2 = compare_pictograms(from_picam2)\n",
    "    print(\"The Pictogram shows a {}\".format(result[1]))\n",
    "    print(\"The Pictogram shows a {}\".format(result2[1]))"
   ]
  },
  {
   "cell_type": "code",
   "execution_count": null,
   "metadata": {},
   "outputs": [],
   "source": []
  }
 ],
 "metadata": {
  "kernelspec": {
   "display_name": "Python 3",
   "language": "python",
   "name": "python3"
  },
  "language_info": {
   "codemirror_mode": {
    "name": "ipython",
    "version": 3
   },
   "file_extension": ".py",
   "mimetype": "text/x-python",
   "name": "python",
   "nbconvert_exporter": "python",
   "pygments_lexer": "ipython3",
   "version": "3.8.2"
  }
 },
 "nbformat": 4,
 "nbformat_minor": 4
}
