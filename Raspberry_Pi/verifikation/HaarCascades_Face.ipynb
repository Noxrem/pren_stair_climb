{
 "cells": [
  {
   "cell_type": "code",
   "execution_count": null,
   "metadata": {},
   "outputs": [],
   "source": [
    "import cv2\n",
    "\n",
    "face_clsfr=cv2.CascadeClassifier(\"haar-cascade/haarcascade_frontalface_default.xml\")\n",
    "#loading the face detecting cascade classifier into face_clsfr\n",
    "eye_clsfr=cv2.CascadeClassifier('haar-cascade/haarcascade_eye_tree_eyeglasses.xml')\n",
    "#loading the eyes cascade classifier into face_clsfr\n",
    "\n",
    "camera=cv2.VideoCapture(0)\n",
    "#initializing the video object (0 for default webcam)\n",
    "\n",
    "while(True):\n",
    "#infinite loop to read continuous frames from the camera object\n",
    "\n",
    "    ret,img=camera.read()\n",
    "    #reading a single frame from the camera\n",
    "    gray=cv2.cvtColor(img,cv2.COLOR_BGR2GRAY)\n",
    "    #converting the color image to a gray scale image\n",
    "    faces=face_clsfr.detectMultiScale(gray)     \n",
    "    #detecting faces in the gray scale, (this is quite similar to results=clsfr.predict(data))\n",
    "    #faces is a 2D array contaning n number of rows (n= number of faces in the frame), 4 columns (x,y,w,h)\n",
    "    for (x,y,w,h) in faces:\n",
    "    #going through each and every face and assigning the x,y,w,h\n",
    "\n",
    "        cv2.rectangle(img,(x,y),(x+w,y+h),(0,255,0),2)\n",
    "        #Drawing a rectangle bounding the faces\n",
    "        cv2.putText(img,'FACE',(x,y-10),cv2.FONT_HERSHEY_SIMPLEX,0.5,(0,255,0),2)\n",
    "        #showing 'FACE' near the bounding rectangle\n",
    "\n",
    "        face_img=gray[y:y+w,x:x+w]\n",
    "        #cropping the detected face area and assigning into a face_img \n",
    "        cv2.imshow('Face',face_img)\n",
    "        #comment the above line to see the cropped face\n",
    "        eyes=eye_clsfr.detectMultiScale(face_img)\n",
    "        #detecting eyes in the cropped face\n",
    "\n",
    "        for(ex,ey,ew,eh) in eyes:\n",
    "\n",
    "            cv2.rectangle(img,(x+ex,y+ey),(x+ex+ew,y+ey+eh),(255,0,0),2)\n",
    "            cv2.putText(img,'EYES',(x+ex,y+ey-10),cv2.FONT_HERSHEY_SIMPLEX,0.5,(255,0,0),2)\n",
    "        #drawing rectangles bounding eyes\n",
    "            \n",
    "    cv2.imshow('LIVE',img)\n",
    "    cv2.waitKey(1)\n",
    "    #showing the frame\n",
    "    "
   ]
  },
  {
   "cell_type": "code",
   "execution_count": null,
   "metadata": {},
   "outputs": [],
   "source": []
  }
 ],
 "metadata": {
  "kernelspec": {
   "display_name": "Python 3",
   "language": "python",
   "name": "python3"
  },
  "language_info": {
   "codemirror_mode": {
    "name": "ipython",
    "version": 3
   },
   "file_extension": ".py",
   "mimetype": "text/x-python",
   "name": "python",
   "nbconvert_exporter": "python",
   "pygments_lexer": "ipython3",
   "version": "3.8.2"
  }
 },
 "nbformat": 4,
 "nbformat_minor": 4
}
